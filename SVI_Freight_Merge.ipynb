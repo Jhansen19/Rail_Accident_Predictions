{
 "cells": [
  {
   "cell_type": "code",
   "execution_count": 1,
   "id": "13e800a6",
   "metadata": {},
   "outputs": [],
   "source": [
    "import pandas as pd"
   ]
  },
  {
   "cell_type": "code",
   "execution_count": 2,
   "id": "f54c6a81",
   "metadata": {},
   "outputs": [],
   "source": [
    "svi_file = '/Users/allenho/Documents/Grad IU/Fall 2024/Data Science In Practice/Freight/Data Sets/Team/Indiana_SVI_Scale1-10.csv'\n",
    "svi_data = pd.read_csv(svi_file)"
   ]
  },
  {
   "cell_type": "code",
   "execution_count": 3,
   "id": "804b76fd",
   "metadata": {},
   "outputs": [],
   "source": [
    "aar_file = '/Users/allenho/Documents/Grad IU/Fall 2024/Data Science In Practice/Freight/Test/AAR_Analysis_City_Estimates.xlsx'\n",
    "aar_data = pd.read_excel(aar_file)"
   ]
  },
  {
   "cell_type": "code",
   "execution_count": 4,
   "id": "5bcb19cd",
   "metadata": {},
   "outputs": [],
   "source": [
    "merged_data = svi_data.merge(aar_data[['GEOID', 'total_combined_risk']],\n",
    "                             left_on='FIPS', right_on='GEOID', how='left')\n",
    "\n",
    "\n",
    "merged_data.to_csv('Merged_SVI_AAR_Data.csv', index=False)"
   ]
  },
  {
   "cell_type": "code",
   "execution_count": null,
   "id": "08f14b09",
   "metadata": {},
   "outputs": [],
   "source": []
  }
 ],
 "metadata": {
  "kernelspec": {
   "display_name": "base",
   "language": "python",
   "name": "python3"
  },
  "language_info": {
   "codemirror_mode": {
    "name": "ipython",
    "version": 3
   },
   "file_extension": ".py",
   "mimetype": "text/x-python",
   "name": "python",
   "nbconvert_exporter": "python",
   "pygments_lexer": "ipython3",
   "version": "3.7.3"
  }
 },
 "nbformat": 4,
 "nbformat_minor": 5
}
